{
 "cells": [
  {
   "cell_type": "markdown",
   "metadata": {},
   "source": [
    "# Init"
   ]
  },
  {
   "cell_type": "code",
   "execution_count": 1,
   "metadata": {},
   "outputs": [],
   "source": [
    "import torch\n",
    "import torch.nn as nn\n",
    "import torch.nn.functional as F\n",
    "import numpy as np\n",
    "import pandas as pd\n",
    "import matplotlib.pyplot as plt"
   ]
  },
  {
   "cell_type": "markdown",
   "metadata": {},
   "source": [
    "# Data"
   ]
  },
  {
   "cell_type": "markdown",
   "metadata": {},
   "source": [
    "## Read Data as Characters"
   ]
  },
  {
   "cell_type": "code",
   "execution_count": 2,
   "metadata": {},
   "outputs": [
    {
     "name": "stdout",
     "output_type": "stream",
     "text": [
      "First few lines:\n",
      " غزل   ۱\n",
      "\n",
      "الا يا ايها الساقی ادر کاسا و ناولها\n",
      "که عشق آسان نمود اول ولی افتاد مشکل ها\n"
     ]
    }
   ],
   "source": [
    "with open('data/hafez.txt', 'r', encoding='utf-16') as f:\n",
    "    words = f.read()\n",
    "print(f'First few lines:\\n {words[:84]}')"
   ]
  },
  {
   "cell_type": "code",
   "execution_count": 3,
   "metadata": {},
   "outputs": [
    {
     "name": "stdout",
     "output_type": "stream",
     "text": [
      "Number of characters: 283312\n"
     ]
    }
   ],
   "source": [
    "print(f'Number of characters: {len(words)}')"
   ]
  },
  {
   "cell_type": "code",
   "execution_count": 4,
   "metadata": {},
   "outputs": [
    {
     "name": "stdout",
     "output_type": "stream",
     "text": [
      "nchars = 47\n"
     ]
    },
    {
     "data": {
      "text/plain": [
       "'\\n, ,ء,آ,ا,ب,ت,ث,ج,ح,خ,د,ذ,ر,ز,س,ش,ص,ض,ط,ظ,ع,غ,ف,ق,ل,م,ن,ه,و,ي,پ,چ,ژ,ک,گ,ی,۰,۱,۲,۳,۴,۵,۶,۷,۸,۹'"
      ]
     },
     "execution_count": 4,
     "metadata": {},
     "output_type": "execute_result"
    }
   ],
   "source": [
    "chars = sorted(set(words))\n",
    "nchars = len(chars)\n",
    "# includes \\n (new line), space, numbers and letters.\n",
    "print(f'{nchars = }')\n",
    "','.join(chars)"
   ]
  },
  {
   "cell_type": "markdown",
   "metadata": {},
   "source": [
    "## Tokenize Data\n",
    "\n",
    "We map each character to an integer or token. With this mapping a text can be encoded into a vector of integers."
   ]
  },
  {
   "cell_type": "code",
   "execution_count": 5,
   "metadata": {},
   "outputs": [],
   "source": [
    "atoi = {c: i for i, c in enumerate(chars)}\n",
    "itoa = {i: c for i, c in enumerate(chars)}"
   ]
  },
  {
   "cell_type": "code",
   "execution_count": 6,
   "metadata": {},
   "outputs": [
    {
     "name": "stdout",
     "output_type": "stream",
     "text": [
      "[22, 14, 25, 1, 1, 1, 38, 0, 0, 4, 25, 4, 1, 30, 4, 1, 4, 30, 28, 4, 1, 4, 25, 15, 4, 24, 36, 1, 4, 11, 13, 1, 34, 4, 15, 4, 1, 29, 1, 27, 4, 29, 25, 28, 4, 0, 34, 28, 1, 21, 16, 24, 1, 3, 15, 4, 27, 1, 27, 26, 29, 11, 1, 4, 29, 25, 1, 29, 25, 36, 1, 4, 23, 6, 4, 11, 1, 26, 16, 34, 25, 1, 28, 4]\n",
      "غزل   ۱\n",
      "\n",
      "الا يا ايها الساقی ادر کاسا و ناولها\n",
      "که عشق آسان نمود اول ولی افتاد مشکل ها\n"
     ]
    }
   ],
   "source": [
    "def encode(str):\n",
    "    return [atoi[c] for c in str]\n",
    "\n",
    "def decode(arr):\n",
    "    return ''.join([itoa[i] for i in arr])\n",
    "\n",
    "str = words[:84]\n",
    "enc = encode(str)\n",
    "print(enc)\n",
    "print(decode(enc))"
   ]
  },
  {
   "cell_type": "markdown",
   "metadata": {},
   "source": [
    "We tokenize the whole text and use this dataset in the rest of development."
   ]
  },
  {
   "cell_type": "code",
   "execution_count": 7,
   "metadata": {},
   "outputs": [
    {
     "name": "stdout",
     "output_type": "stream",
     "text": [
      "tensor([22, 14, 25,  1,  1,  1, 38,  0,  0,  4, 25,  4,  1, 30,  4,  1,  4, 30,\n",
      "        28,  4,  1,  4, 25, 15,  4, 24, 36,  1,  4, 11, 13,  1, 34,  4, 15,  4,\n",
      "         1, 29,  1, 27,  4, 29, 25, 28,  4,  0, 34, 28,  1, 21, 16, 24,  1,  3,\n",
      "        15,  4, 27,  1, 27, 26, 29, 11,  1,  4, 29, 25,  1, 29, 25, 36,  1,  4,\n",
      "        23,  6,  4, 11,  1, 26, 16, 34, 25,  1, 28,  4])\n"
     ]
    }
   ],
   "source": [
    "encdata = torch.tensor(encode(words), dtype=torch.long)\n",
    "print(encdata[:84])"
   ]
  },
  {
   "cell_type": "markdown",
   "metadata": {},
   "source": [
    "## Split Data\n",
    "\n",
    "We use the first 80% of the text as the training dataset, the next 10% as the validation, and the last 10% as the test dataset."
   ]
  },
  {
   "cell_type": "code",
   "execution_count": 8,
   "metadata": {},
   "outputs": [
    {
     "name": "stdout",
     "output_type": "stream",
     "text": [
      "Data split: 283312 = 226649 + 28331 + 28332\n"
     ]
    }
   ],
   "source": [
    "nencdata = len(encdata)\n",
    "ntrain, nvalid = int(0.8*nencdata), int(0.1*nencdata)\n",
    "\n",
    "data = {'train': encdata[:ntrain],\n",
    "        'valid': encdata[ntrain:ntrain+nvalid],\n",
    "        'test': encdata[ntrain+nvalid:]}\n",
    "\n",
    "print('Data split: ', end='')\n",
    "print(f'{nencdata} = {len(data['train'])} + {len(data['valid'])} + {len(data['test'])}')"
   ]
  },
  {
   "cell_type": "markdown",
   "metadata": {},
   "source": [
    "# Model\n",
    "\n",
    "We now build a transformer model. The model input is a block of text and the output of the model is a character that comes next.\n",
    "\n",
    "Let's start with a simple bigram model that gets a character and predicts the next character. The bigrams are from a block of a text.\n",
    "\n",
    "To generate training examples, we select a block from a text and generate all bigrams from the block. For instance, consider a text \"A dog is barking.\" For a block-size of 5, suppose we selected 'og is '. All the bigrams are ('o', 'g'), ('g', ' '), (' ', 'i'), ('i', 's'), ('s', ' ')."
   ]
  },
  {
   "cell_type": "markdown",
   "metadata": {},
   "source": [
    "## Model Parameters"
   ]
  },
  {
   "cell_type": "code",
   "execution_count": 22,
   "metadata": {},
   "outputs": [],
   "source": [
    "block_size = 8\n",
    "nembd = 32\n",
    "nbatch = 32\n",
    "nepoch = 100000\n",
    "eval_size = 1000"
   ]
  },
  {
   "cell_type": "markdown",
   "metadata": {},
   "source": [
    "## Utility Functions"
   ]
  },
  {
   "cell_type": "code",
   "execution_count": 10,
   "metadata": {},
   "outputs": [],
   "source": [
    "def get_batch(data, nbatch, block_size):\n",
    "    '''\n",
    "    Generates a batch of examples.\n",
    "    (x[i], y[i]) is a pair of consecutive characters in the text.\n",
    "    '''\n",
    "    indices = torch.randint(len(data)-block_size, (nbatch,))\n",
    "    x = torch.stack([data[i:i+block_size] for i in indices])\n",
    "    y = torch.stack([data[i+1:i+block_size+1] for i in indices])\n",
    "    return x, y"
   ]
  },
  {
   "cell_type": "code",
   "execution_count": 11,
   "metadata": {},
   "outputs": [
    {
     "data": {
      "text/plain": [
       "(tensor([[11, 29, 16,  0,  5, 28,  1, 13],\n",
       "         [ 0,  0, 15, 30, 27, 28,  1,  6]]),\n",
       " tensor([[29, 16,  0,  5, 28,  1, 13,  4],\n",
       "         [ 0, 15, 30, 27, 28,  1,  6, 27]]))"
      ]
     },
     "execution_count": 11,
     "metadata": {},
     "output_type": "execute_result"
    }
   ],
   "source": [
    "x, y = get_batch(data['train'], nbatch=2, block_size=block_size)\n",
    "x, y"
   ]
  },
  {
   "cell_type": "code",
   "execution_count": 12,
   "metadata": {},
   "outputs": [],
   "source": [
    "def get_loss(logits, y):\n",
    "    '''\n",
    "    Computes cross-entropy loss, given logits and labels.\n",
    "    '''\n",
    "    B, T, C = logits.shape\n",
    "    # F.cross_entropy expects size C, (B, C), or (B, C, ...)\n",
    "    # logits shape is (B, T, C), so we flatten the first two dimensions.\n",
    "    return F.cross_entropy(logits.view(B*T, C), y.view(B*T))"
   ]
  },
  {
   "cell_type": "code",
   "execution_count": 13,
   "metadata": {},
   "outputs": [],
   "source": [
    "def train(model, data, nepoch=100, nbatch=20, block_size=8, lr=1e-3, losses=None):\n",
    "    optimizer = torch.optim.AdamW(model.parameters(), lr=lr)\n",
    "    if losses is None:\n",
    "        losses = {\n",
    "            'train': [],\n",
    "            'valid': [],\n",
    "        }\n",
    "    for _ in range(nepoch):\n",
    "        x, y = get_batch(data['train'], nbatch=nbatch, block_size=block_size)\n",
    "\n",
    "        logits = model(x)\n",
    "        loss = get_loss(logits, y)\n",
    "        losses['train'].append(loss.item())\n",
    "\n",
    "        with torch.no_grad():\n",
    "            x, y = get_batch(data['valid'], nbatch=nbatch, block_size=block_size)\n",
    "            logits = model(x)\n",
    "            vloss = get_loss(logits, y)\n",
    "            losses['valid'].append(vloss.item())\n",
    "\n",
    "        optimizer.zero_grad(set_to_none=True)\n",
    "        loss.backward()\n",
    "        optimizer.step()\n",
    "    return losses"
   ]
  },
  {
   "cell_type": "code",
   "execution_count": 14,
   "metadata": {},
   "outputs": [],
   "source": [
    "def gen_text(model, block_size, max_size=100):\n",
    "    '''\n",
    "    Generates text using the model starting from nothing.\n",
    "    '''\n",
    "    # starting from '\\n' char we generate text.\n",
    "    x = torch.zeros((1, 1), dtype=torch.long)\n",
    "    for _ in range(max_size):\n",
    "        logits = model(x[:, -block_size:])\n",
    "        # only consider the last logit\n",
    "        logits = logits[:, -1, :]\n",
    "        score = F.softmax(logits, dim=1)\n",
    "        next_token = score.multinomial(1)\n",
    "        x = torch.cat((x, next_token), dim=1)\n",
    "    return x[0].tolist()"
   ]
  },
  {
   "cell_type": "code",
   "execution_count": 15,
   "metadata": {},
   "outputs": [],
   "source": [
    "def nparameters(model):\n",
    "    '''\n",
    "    Returns the total number of model parameters.\n",
    "    '''\n",
    "    return sum([p.nelement() for p in model.parameters()])"
   ]
  },
  {
   "cell_type": "markdown",
   "metadata": {},
   "source": [
    "## Bigram Model"
   ]
  },
  {
   "cell_type": "code",
   "execution_count": 17,
   "metadata": {},
   "outputs": [],
   "source": [
    "class Bigram(nn.Module):\n",
    "    '''\n",
    "    A simple bigram-based neural network, which gets a\n",
    "    characater as input and predicts the next character.\n",
    "    '''\n",
    "    def __init__(self):\n",
    "        super().__init__()\n",
    "        self.token_emb = nn.Embedding(nchars, nembd)\n",
    "        self.linear = nn.Linear(nembd, nchars)\n",
    "        \n",
    "    def forward(self, x):\n",
    "        out = self.token_emb(x)\n",
    "        out = self.linear(out)\n",
    "        return out\n",
    "\n",
    "bigram = Bigram()"
   ]
  },
  {
   "cell_type": "code",
   "execution_count": 18,
   "metadata": {},
   "outputs": [
    {
     "data": {
      "text/plain": [
       "3055"
      ]
     },
     "execution_count": 18,
     "metadata": {},
     "output_type": "execute_result"
    }
   ],
   "source": [
    "nparameters(bigram)"
   ]
  },
  {
   "cell_type": "code",
   "execution_count": 19,
   "metadata": {},
   "outputs": [
    {
     "name": "stdout",
     "output_type": "stream",
     "text": [
      "loss of untrained model: 4.237181663513184\n",
      "expected loss of a random model: 3.8501476017100584\n"
     ]
    }
   ],
   "source": [
    "logits = bigram(x)\n",
    "loss = get_loss(logits, y)\n",
    "print(f'loss of untrained model: {loss.item()}')\n",
    "# Random model: p(c) = 1/nchars for every character c.\n",
    "# loss -np.log([1/nchars]*nchars).mean() which is simplified to np.log(nchars).\n",
    "print(f'expected loss of a random model: {np.log(nchars)}')"
   ]
  },
  {
   "cell_type": "code",
   "execution_count": 20,
   "metadata": {},
   "outputs": [
    {
     "name": "stdout",
     "output_type": "stream",
     "text": [
      "\n",
      "ژی\n",
      "۳۱ج۶گغط۳س۹گهوکترمهلاسسضضتص۷ر\n",
      "ژغبدش۶۳چمغچءطءيض۲۱ی۱س۷تظآش\n",
      "ب۹ءژلق۴ن۰۴ا۷جلچفب۴ذ۷لزن۲ژا۲۸دءو ۱جخذذلشدی\n"
     ]
    }
   ],
   "source": [
    "print(decode(gen_text(bigram, block_size, max_size=100)))"
   ]
  },
  {
   "cell_type": "markdown",
   "metadata": {},
   "source": [
    "### Optimize Bigram Model"
   ]
  },
  {
   "cell_type": "code",
   "execution_count": 21,
   "metadata": {},
   "outputs": [],
   "source": [
    "bigram_losses = None"
   ]
  },
  {
   "cell_type": "code",
   "execution_count": 23,
   "metadata": {},
   "outputs": [
    {
     "name": "stdout",
     "output_type": "stream",
     "text": [
      "final training loss: 2.502090333223343\n",
      "final validation loss: 2.5522592797279358\n"
     ]
    }
   ],
   "source": [
    "bigram_losses = train(bigram, data, nepoch, nbatch, block_size, losses=bigram_losses)\n",
    "\n",
    "print(f'final training loss: {np.mean(bigram_losses['train'][-eval_size:])}')\n",
    "print(f'final validation loss: {np.mean(bigram_losses['valid'][-eval_size:])}')"
   ]
  },
  {
   "cell_type": "code",
   "execution_count": 24,
   "metadata": {},
   "outputs": [
    {
     "data": {
      "image/png": "[encoded data removed]",
      "text/plain": [
       "<Figure size 640x480 with 1 Axes>"
      ]
     },
     "metadata": {},
     "output_type": "display_data"
    }
   ],
   "source": [
    "plt.plot(torch.tensor(bigram_losses['train']).view(-1, eval_size).mean(axis=1));\n",
    "plt.plot(torch.tensor(bigram_losses['valid']).view(-1, eval_size).mean(axis=1));\n",
    "plt.legend(['training loss', 'validation loss']);"
   ]
  },
  {
   "cell_type": "code",
   "execution_count": 29,
   "metadata": {},
   "outputs": [
    {
     "name": "stdout",
     "output_type": "stream",
     "text": [
      "\n",
      "ول دارموت\n",
      "بی قا خيامن دان خساين د چه د\n",
      "\n",
      "خامی غلمخون ر زلواندر ر\n",
      "دستش\n",
      "\n",
      "کر ت نهافی\n",
      "خن خوام م قد حر\n",
      "ع ا\n"
     ]
    }
   ],
   "source": [
    "print(decode(gen_text(bigram, block_size, max_size=100)))"
   ]
  },
  {
   "cell_type": "markdown",
   "metadata": {},
   "source": [
    "## Transformer Model"
   ]
  },
  {
   "cell_type": "code",
   "execution_count": 30,
   "metadata": {},
   "outputs": [],
   "source": [
    "head_size = 32"
   ]
  },
  {
   "cell_type": "markdown",
   "metadata": {},
   "source": [
    "### Self-Attention\n",
    "\n",
    "In the bigram model, tokens do not communicate with each other, i.e., they predicts the next character independently without any knowledge of previous characters. The self-attention mechanis addresses this issue.\n",
    "\n",
    "The simplest way for a token to communicate with previous one is to look at the average of all the previous tokens and the current token instead of the current token only. Although this is not the ideal method, it's constructive to understand how to implement this first.\n",
    "\n",
    "To understand mathematical operations in self-attension, let's start with a simple example. Suppose we have a matrix $X$ of size $m\\times n.$ We want to build a matrix $Y$, such that\n",
    "\n",
    "$$Y_{ij}=\\frac{1}{i+1}\\sum_{k=0}^{i}X_{kj},\\quad {\\rm for}\\quad i=0,1,\\ldots,m-1,\\quad j=0,1,\\ldots,n-1.$$\n",
    "\n",
    "This mean that $Y_{ij}$ is the average of $X_{0,j},\\ldots,X_{i,j}.$ This operation can be achieved by matrix multiplication as $Y=LX$ where $L$ is an $m\\times m$ triangular matrix defined as:\n",
    "\n",
    "$$\n",
    "L=\n",
    "\\begin{pmatrix}\n",
    "1 & 0 & 0 & \\ldots & 0\\\\\n",
    "\\frac{1}{2} & \\frac{1}{2} & 0 & \\ldots & 0\\\\\n",
    "\\frac{1}{3} & \\frac{1}{3} & \\frac{1}{3} & \\ldots & 0\\\\\n",
    "\\vdots & \\vdots & \\vdots && \\vdots\\\\\n",
    "\\frac{1}{m} & \\frac{1}{m} & \\frac{1}{m} & \\ldots & \\frac{1}{m}\n",
    "\\end{pmatrix}.\n",
    "$$\n",
    "\n",
    "One way to compute this matrix is $L={\\rm Softmax(P)}$, where:\n",
    "\n",
    "$$\n",
    "P=\n",
    "\\begin{pmatrix}\n",
    "0 & -\\infty & -\\infty & \\ldots & -\\infty\\\\\n",
    "0 & 0 & -\\infty & \\ldots & -\\infty\\\\\n",
    "0 & 0 & 0 & \\ldots & -\\infty\\\\\n",
    "\\vdots & \\vdots & \\vdots && \\vdots\\\\\n",
    "0 & 0 & 0 & \\ldots & 0\n",
    "\\end{pmatrix}.\n",
    "$$\n",
    "\n",
    "In our implementation, we often have a 3D tensor $X$ of size $m\\times n\\times p.$ We will illustrate how to apply this operation efficiently using matrix multiplication."
   ]
  },
  {
   "cell_type": "code",
   "execution_count": null,
   "metadata": {},
   "outputs": [],
   "source": [
    "# Naive implementation.\n",
    "X = torch.randn((4, 8, 3))\n",
    "Y1 = torch.zeros_like(X)\n",
    "for i in range(X.shape[0]):\n",
    "    for j in range(X.shape[1]):\n",
    "        # The same as Y1[i, j, :] = torch.mean(X[i, :j+1, :], dim=0)\n",
    "        Y1[i, j] = torch.mean(X[i, :j+1], dim=0)\n",
    "\n",
    "# Efficient implementation.       \n",
    "tril = torch.tril(torch.ones(8, 8))\n",
    "tril_normalized1 = tril / tril.sum(dim=1, keepdim=True)\n",
    "# Y2(8x8) @ X(4x8x3)\n",
    "# Since Y2 is 2D while X is 3D, @ operation will first\n",
    "# broadcast Y2 to create 4x8x8. The result will have 4x8x3.\n",
    "Y2 = tril_normalized1 @ X  \n",
    "\n",
    "# Another efficient implementation.\n",
    "tril_normalized2 = torch.zeros_like(tril)\n",
    "tril_normalized2 = tril_normalized2.masked_fill(tril == 0, float('-inf'))\n",
    "tril_normalized2 = F.softmax(tril_normalized2, dim=1)\n",
    "print(f'Are both normalizations equal? {torch.allclose(tril_normalized1, tril_normalized2)}')\n",
    "Y3 = tril_normalized2 @ X\n",
    "\n",
    "torch.allclose(Y1, Y2), torch.allclose(Y1, Y3)"
   ]
  },
  {
   "cell_type": "markdown",
   "metadata": {},
   "source": [
    "In the bigram model, we only use the information about the current token to determine the next token. In the self-attention mechanism, however, we use the information of the previous tokens in addition to that of the current token. As we discussed we aggregate the information of previous tokens using the mean of the model weights corresponding to those tokens. This is not ideal as we treat all previous tokens the same. In the following, we discuss ways to improve it.\n",
    "\n",
    "A self-attention module contains a head $H$, a query $Q$, and a key $K$. A head has a size $h$ called head-size. Each query and key is a vector of size $h$. Each token is associated with a query and key.\n",
    "\n",
    "For any token $i$, we compute $Q_i\\cdot K_j$, for $j=0,1,\\ldots,i$, which represent the relevance of token $i$ to each previous token $j$."
   ]
  },
  {
   "cell_type": "code",
   "execution_count": 31,
   "metadata": {},
   "outputs": [],
   "source": [
    "class Head(nn.Module):\n",
    "    '''\n",
    "    Self-attention head layer.\n",
    "    '''\n",
    "    def __init__(self, head_size):\n",
    "        super().__init__()\n",
    "        self.query = nn.Linear(nembd, head_size, bias=False)\n",
    "        self.key = nn.Linear(nembd, head_size, bias=False)\n",
    "        self.value = nn.Linear(nembd, head_size, bias=False)\n",
    "        # tril is not a model parameter so we register it as a buffer.\n",
    "        # block_size is the maximum size. The actual size can be smaller.\n",
    "        self.register_buffer('tril', torch.tril(torch.ones(block_size, block_size)))\n",
    "        \n",
    "    def forward(self, x):\n",
    "        _, T, C = x.shape\n",
    "        query = self.query(x)\n",
    "        key = self.key(x)\n",
    "        weights = query @ key.transpose(-2, -1) * C**-0.5\n",
    "        \n",
    "        # The time dimension can be smaller than the block-size.\n",
    "        weights = weights.masked_fill(self.tril[:T, :T] == 0, float('-inf'))\n",
    "        weights = F.softmax(weights, dim=-1)\n",
    "        \n",
    "        value = self.value(x)\n",
    "        out = weights @ value\n",
    "\n",
    "        return out"
   ]
  },
  {
   "cell_type": "code",
   "execution_count": 32,
   "metadata": {},
   "outputs": [],
   "source": [
    "class Transformer(nn.Module):\n",
    "    '''\n",
    "    A simple transformer model for building a character-level\n",
    "    language model using a single self-attention head.\n",
    "    '''\n",
    "    def __init__(self, head_size):\n",
    "        super().__init__()\n",
    "        self.token_emb = nn.Embedding(nchars, nembd)\n",
    "        self.position_emb = nn.Embedding(block_size, nembd)\n",
    "        self.head = Head(head_size)\n",
    "        self.linear = nn.Linear(head_size, nchars)\n",
    "\n",
    "    def forward(self, x):\n",
    "        _, T = x.shape\n",
    "        # x.shape == (nbatch, block_size, nchars)\n",
    "        # token_emb.shape == (nbatch, block_size, nembd)\n",
    "        token_emb = self.token_emb(x)\n",
    "        # position_emb.shape == (nbatch, block_size, nembd)\n",
    "        position_emb = self.position_emb(torch.arange(T))\n",
    "        # out.shape == (nbatch, block_size, nembd)\n",
    "        out = token_emb + position_emb\n",
    "        # out.shape == (nbatch, block_size, nembd)\n",
    "        out = self.head(out)\n",
    "        # out.shape == (nbatch, block_size, nchars)\n",
    "        out = self.linear(out)\n",
    "\n",
    "        return out\n",
    "\n",
    "transformer = Transformer(head_size)"
   ]
  },
  {
   "cell_type": "code",
   "execution_count": 33,
   "metadata": {},
   "outputs": [
    {
     "data": {
      "text/plain": [
       "6383"
      ]
     },
     "execution_count": 33,
     "metadata": {},
     "output_type": "execute_result"
    }
   ],
   "source": [
    "nparameters(transformer)"
   ]
  },
  {
   "cell_type": "markdown",
   "metadata": {},
   "source": [
    "### Optimize Single-Head Transformer"
   ]
  },
  {
   "cell_type": "code",
   "execution_count": 34,
   "metadata": {},
   "outputs": [],
   "source": [
    "transformer_losses = None"
   ]
  },
  {
   "cell_type": "code",
   "execution_count": 35,
   "metadata": {},
   "outputs": [
    {
     "name": "stdout",
     "output_type": "stream",
     "text": [
      "final training loss: 2.403336886882782\n",
      "final validation loss: 2.4640851159095765\n"
     ]
    }
   ],
   "source": [
    "transformer_losses = train(transformer, data, nepoch, nbatch, block_size, losses=transformer_losses)\n",
    "\n",
    "print(f'final training loss: {np.mean(transformer_losses['train'][-eval_size:])}')\n",
    "print(f'final validation loss: {np.mean(transformer_losses['valid'][-eval_size:])}')"
   ]
  },
  {
   "cell_type": "code",
   "execution_count": 37,
   "metadata": {},
   "outputs": [
    {
     "data": {
      "image/png": "[encoded data removed]",
      "text/plain": [
       "<Figure size 640x480 with 1 Axes>"
      ]
     },
     "metadata": {},
     "output_type": "display_data"
    }
   ],
   "source": [
    "plt.plot(torch.tensor(transformer_losses['train']).view(-1, eval_size).mean(axis=1));\n",
    "plt.plot(torch.tensor(transformer_losses['valid']).view(-1, eval_size).mean(axis=1));\n",
    "plt.legend(['training loss', 'validation loss']);"
   ]
  },
  {
   "cell_type": "code",
   "execution_count": 38,
   "metadata": {},
   "outputs": [
    {
     "name": "stdout",
     "output_type": "stream",
     "text": [
      "\n",
      "گر می کش کد\n",
      "\n",
      "ستم خور ناينه آنيده کنی مداده صد خبا خه م نهر مغخن زپی\n",
      "مد\n",
      "انه نه طفلع ما آن شکه خنه مدر\n"
     ]
    }
   ],
   "source": [
    "print(decode(gen_text(transformer, block_size, max_size=100)))"
   ]
  },
  {
   "cell_type": "markdown",
   "metadata": {},
   "source": [
    "### Multi-Head Attention\n",
    "\n",
    "A multi-head attention layer is just a multiple self-attention heads running in parallel. For completeness, we also add a feed-forward layer as described in the Attention paper.\n",
    "\n",
    "We create a block layer which contains a self-attention layer followed by a feed-forward layer. Then we add multiple blocks sequentially in the network."
   ]
  },
  {
   "cell_type": "code",
   "execution_count": 39,
   "metadata": {},
   "outputs": [],
   "source": [
    "nhead = 4"
   ]
  },
  {
   "cell_type": "code",
   "execution_count": 40,
   "metadata": {},
   "outputs": [],
   "source": [
    "class MultiHead(nn.Module):\n",
    "    def __init__(self, nhead, head_size):\n",
    "        super().__init__()\n",
    "        self.heads = nn.ModuleList([Head(head_size) for _ in range(nhead)])\n",
    "        \n",
    "    def forward(self, x):\n",
    "        out = torch.cat([head(x) for head in self.heads], dim=-1)\n",
    "        return out"
   ]
  },
  {
   "cell_type": "code",
   "execution_count": 43,
   "metadata": {},
   "outputs": [],
   "source": [
    "class FeedForward(nn.Module):\n",
    "    def __init__(self, fain_in, fan_out):\n",
    "        super().__init__()\n",
    "        self.ff = nn.Sequential(\n",
    "            nn.Linear(fain_in, fan_out),\n",
    "            nn.ReLU(),\n",
    "        )\n",
    "        \n",
    "    def forward(self, x):\n",
    "        out = self.ff(x)\n",
    "        return out"
   ]
  },
  {
   "cell_type": "code",
   "execution_count": 50,
   "metadata": {},
   "outputs": [],
   "source": [
    "class Block(nn.Module):\n",
    "    def __init__(self, nembd, nhead):\n",
    "        super().__init__()\n",
    "        # self-attention heads\n",
    "        self.sa = MultiHead(nhead, nembd//nhead)\n",
    "        # feed-forward network\n",
    "        self.ff = FeedForward(nembd, nembd)\n",
    "    \n",
    "    def forward(self, x):\n",
    "        out = self.sa(x)\n",
    "        out = self.ff(out)\n",
    "        return out"
   ]
  },
  {
   "cell_type": "code",
   "execution_count": 56,
   "metadata": {},
   "outputs": [],
   "source": [
    "\n",
    "class Transformer(nn.Module):\n",
    "    '''\n",
    "    A simple transformer model for building a character-level\n",
    "    language model using multiple self-attention heads.\n",
    "    '''\n",
    "    def __init__(self, nhead):\n",
    "        super().__init__()\n",
    "        self.token_emb = nn.Embedding(nchars, nembd)\n",
    "        self.position_emb = nn.Embedding(block_size, nembd)\n",
    "        self.blocks = nn.Sequential(\n",
    "            Block(nembd, nhead),\n",
    "            Block(nembd, nhead),\n",
    "            Block(nembd, nhead),\n",
    "        )\n",
    "        self.linear = nn.Linear(nembd, nchars)\n",
    "\n",
    "    def forward(self, x):\n",
    "        _, T = x.shape\n",
    "        # x.shape == (nbatch, block_size, nchars)\n",
    "        # token_emb.shape == (nbatch, block_size, nembd)\n",
    "        token_emb = self.token_emb(x)\n",
    "        # position_emb.shape == (nbatch, block_size, nembd)\n",
    "        position_emb = self.position_emb(torch.arange(T))\n",
    "        # out.shape == (nbatch, block_size, nembd)\n",
    "        out = token_emb + position_emb\n",
    "        # out.shape == (nbatch, block_size, nembd)\n",
    "        out = self.blocks(out)\n",
    "        # out.shape == (nbatch, block_size, nchars)\n",
    "        out = self.linear(out)\n",
    "\n",
    "        return out\n",
    "\n",
    "multihead_transformer = Transformer(nhead)"
   ]
  },
  {
   "cell_type": "code",
   "execution_count": 57,
   "metadata": {},
   "outputs": [
    {
     "data": {
      "text/plain": [
       "15695"
      ]
     },
     "execution_count": 57,
     "metadata": {},
     "output_type": "execute_result"
    }
   ],
   "source": [
    "nparameters(multihead_transformer)"
   ]
  },
  {
   "cell_type": "markdown",
   "metadata": {},
   "source": [
    "### Optimize Multi-Head Transformer"
   ]
  },
  {
   "cell_type": "code",
   "execution_count": 58,
   "metadata": {},
   "outputs": [],
   "source": [
    "multihead_losses = None"
   ]
  },
  {
   "cell_type": "code",
   "execution_count": 59,
   "metadata": {},
   "outputs": [],
   "source": [
    "multihead_losses = train(multihead_transformer, data, nepoch, nbatch, block_size, losses=multihead_losses)\n",
    "\n",
    "print(f'final training loss: {np.mean(multihead_losses['train'][-eval_size:])}')\n",
    "print(f'final validation loss: {np.mean(multihead_losses['valid'][-eval_size:])}')"
   ]
  },
  {
   "cell_type": "code",
   "execution_count": 51,
   "metadata": {},
   "outputs": [
    {
     "data": {
      "image/png": "[encoded data removed]",
      "text/plain": [
       "<Figure size 640x480 with 1 Axes>"
      ]
     },
     "metadata": {},
     "output_type": "display_data"
    }
   ],
   "source": [
    "plt.plot(torch.tensor(multihead_losses['train']).view(-1, eval_size).mean(axis=1));\n",
    "plt.plot(torch.tensor(multihead_losses['valid']).view(-1, eval_size).mean(axis=1));\n",
    "plt.legend(['training loss', 'validation loss']);"
   ]
  },
  {
   "cell_type": "code",
   "execution_count": null,
   "metadata": {},
   "outputs": [],
   "source": [
    "print(decode(gen_text(multihead_transformer, block_size, max_size=100)))"
   ]
  }
 ],
 "metadata": {
  "kernelspec": {
   "display_name": "venv",
   "language": "python",
   "name": "python3"
  },
  "language_info": {
   "codemirror_mode": {
    "name": "ipython",
    "version": 3
   },
   "file_extension": ".py",
   "mimetype": "text/x-python",
   "name": "python",
   "nbconvert_exporter": "python",
   "pygments_lexer": "ipython3",
   "version": "3.12.3"
  }
 },
 "nbformat": 4,
 "nbformat_minor": 2
}

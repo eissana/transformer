{
  "cells": [
    {
      "cell_type": "markdown",
      "metadata": {
        "id": "view-in-github",
        "colab_type": "text"
      },
      "source": [
        "<a href=\"https://colab.research.google.com/github/eissana/transformer/blob/master/transformer.ipynb\" target=\"_parent\"><img src=\"https://colab.research.google.com/assets/colab-badge.svg\" alt=\"Open In Colab\"/></a>"
      ]
    },
    {
      "cell_type": "markdown",
      "metadata": {
        "id": "tsZBrvTLitry"
      },
      "source": [
        "# Init"
      ]
    },
    {
      "cell_type": "code",
      "execution_count": 1,
      "metadata": {
        "id": "DAeKeEvZitr1",
        "outputId": "5b24b039-9c63-4d09-d999-f6fd02accdfd",
        "colab": {
          "base_uri": "https://localhost:8080/"
        }
      },
      "outputs": [
        {
          "output_type": "stream",
          "name": "stdout",
          "text": [
            "running on: cuda\n"
          ]
        }
      ],
      "source": [
        "import torch\n",
        "import torch.nn as nn\n",
        "import torch.nn.functional as F\n",
        "import numpy as np\n",
        "import pandas as pd\n",
        "import matplotlib.pyplot as plt\n",
        "from urllib.request import urlopen\n",
        "\n",
        "device = 'cuda' if torch.cuda.is_available() else 'cpu'\n",
        "print(f\"running on: {device}\")"
      ]
    },
    {
      "cell_type": "markdown",
      "metadata": {
        "id": "wFAju89nitr3"
      },
      "source": [
        "# Data"
      ]
    },
    {
      "cell_type": "markdown",
      "metadata": {
        "id": "UQ7AZJO7itr3"
      },
      "source": [
        "## Read Data as Characters"
      ]
    },
    {
      "cell_type": "code",
      "execution_count": 2,
      "metadata": {
        "id": "n4M06_kvitr3",
        "outputId": "54e8afba-3777-4150-ee25-193f4a571879",
        "colab": {
          "base_uri": "https://localhost:8080/"
        }
      },
      "outputs": [
        {
          "output_type": "stream",
          "name": "stdout",
          "text": [
            "First few lines:\n",
            " غزل   ۱\r\n",
            "\r\n",
            "الا يا ايها الساقی ادر کاسا و ناولها\r\n",
            "که عشق آسان نمود اول ولی افتاد مشکل\n"
          ]
        }
      ],
      "source": [
        "with urlopen('https://raw.githubusercontent.com/eissana/transformer/master/data/hafez.txt') as f:\n",
        "    words = f.read().decode('utf-16')\n",
        "print(f'First few lines:\\n {words[:84]}')"
      ]
    },
    {
      "cell_type": "code",
      "execution_count": 3,
      "metadata": {
        "id": "w3gC2Qijitr4",
        "outputId": "2bf50f64-0150-4cbb-9c0d-322ce6cacfac",
        "colab": {
          "base_uri": "https://localhost:8080/"
        }
      },
      "outputs": [
        {
          "output_type": "stream",
          "name": "stdout",
          "text": [
            "Number of characters: 297408\n"
          ]
        }
      ],
      "source": [
        "print(f'Number of characters: {len(words)}')"
      ]
    },
    {
      "cell_type": "code",
      "execution_count": 4,
      "metadata": {
        "id": "eQP9b5jMitr4",
        "outputId": "de2414d3-93b3-495a-81aa-603fece0a185",
        "colab": {
          "base_uri": "https://localhost:8080/",
          "height": 53
        }
      },
      "outputs": [
        {
          "output_type": "stream",
          "name": "stdout",
          "text": [
            "nchars = 48\n"
          ]
        },
        {
          "output_type": "execute_result",
          "data": {
            "text/plain": [
              "'\\n,\\r, ,ء,آ,ا,ب,ت,ث,ج,ح,خ,د,ذ,ر,ز,س,ش,ص,ض,ط,ظ,ع,غ,ف,ق,ل,م,ن,ه,و,ي,پ,چ,ژ,ک,گ,ی,۰,۱,۲,۳,۴,۵,۶,۷,۸,۹'"
            ],
            "application/vnd.google.colaboratory.intrinsic+json": {
              "type": "string"
            }
          },
          "metadata": {},
          "execution_count": 4
        }
      ],
      "source": [
        "chars = sorted(set(words))\n",
        "nchars = len(chars)\n",
        "# includes \\n (new line), space, numbers and letters.\n",
        "print(f'{nchars = }')\n",
        "','.join(chars)"
      ]
    },
    {
      "cell_type": "markdown",
      "metadata": {
        "id": "6PE8Mtnpitr5"
      },
      "source": [
        "## Tokenize Data\n",
        "\n",
        "We map each character to an integer or token. With this mapping a text can be encoded into a vector of integers."
      ]
    },
    {
      "cell_type": "code",
      "execution_count": 5,
      "metadata": {
        "id": "UIEAaQR1itr5"
      },
      "outputs": [],
      "source": [
        "atoi = {c: i for i, c in enumerate(chars)}\n",
        "itoa = {i: c for i, c in enumerate(chars)}"
      ]
    },
    {
      "cell_type": "code",
      "execution_count": 6,
      "metadata": {
        "id": "LmcLxaV4itr5",
        "outputId": "f626347c-a2f6-411d-bba4-aef708c3e87a",
        "colab": {
          "base_uri": "https://localhost:8080/"
        }
      },
      "outputs": [
        {
          "output_type": "stream",
          "name": "stdout",
          "text": [
            "[23, 15, 26, 2, 2, 2, 39, 1, 0, 1, 0, 5, 26, 5, 2, 31, 5, 2, 5, 31, 29, 5, 2, 5, 26, 16, 5, 25, 37, 2, 5, 12, 14, 2, 35, 5, 16, 5, 2, 30, 2, 28, 5, 30, 26, 29, 5, 1, 0, 35, 29, 2, 22, 17, 25, 2, 4, 16, 5, 28, 2, 28, 27, 30, 12, 2, 5, 30, 26, 2, 30, 26, 37, 2, 5, 24, 7, 5, 12, 2, 27, 17, 35, 26]\n",
            "غزل   ۱\r\n",
            "\r\n",
            "الا يا ايها الساقی ادر کاسا و ناولها\r\n",
            "که عشق آسان نمود اول ولی افتاد مشکل\n"
          ]
        }
      ],
      "source": [
        "def encode(str):\n",
        "    return [atoi[c] for c in str]\n",
        "\n",
        "def decode(arr):\n",
        "    return ''.join([itoa[i] for i in arr])\n",
        "\n",
        "str = words[:84]\n",
        "enc = encode(str)\n",
        "print(enc)\n",
        "print(decode(enc))"
      ]
    },
    {
      "cell_type": "markdown",
      "metadata": {
        "id": "2r4lTgLoitr6"
      },
      "source": [
        "We tokenize the whole text and use this dataset in the rest of development."
      ]
    },
    {
      "cell_type": "code",
      "execution_count": 7,
      "metadata": {
        "id": "jcGOKo-Fitr6",
        "outputId": "fc632993-6fdb-4eaf-8b2a-7412a8ee7617",
        "colab": {
          "base_uri": "https://localhost:8080/"
        }
      },
      "outputs": [
        {
          "output_type": "stream",
          "name": "stdout",
          "text": [
            "tensor([23, 15, 26,  2,  2,  2, 39,  1,  0,  1,  0,  5, 26,  5,  2, 31,  5,  2,\n",
            "         5, 31, 29,  5,  2,  5, 26, 16,  5, 25, 37,  2,  5, 12, 14,  2, 35,  5,\n",
            "        16,  5,  2, 30,  2, 28,  5, 30, 26, 29,  5,  1,  0, 35, 29,  2, 22, 17,\n",
            "        25,  2,  4, 16,  5, 28,  2, 28, 27, 30, 12,  2,  5, 30, 26,  2, 30, 26,\n",
            "        37,  2,  5, 24,  7,  5, 12,  2, 27, 17, 35, 26])\n"
          ]
        }
      ],
      "source": [
        "encdata = torch.tensor(encode(words), dtype=torch.long)\n",
        "print(encdata[:84])"
      ]
    },
    {
      "cell_type": "markdown",
      "metadata": {
        "id": "oD5i9XXmitr6"
      },
      "source": [
        "## Split Data\n",
        "\n",
        "We use the first 80% of the text as the training dataset, the next 10% as the validation, and the last 10% as the test dataset."
      ]
    },
    {
      "cell_type": "code",
      "execution_count": 11,
      "metadata": {
        "id": "1gt7Yedjitr6",
        "outputId": "bc7ba914-5dfa-43db-ff9f-49bf94346bca",
        "colab": {
          "base_uri": "https://localhost:8080/"
        }
      },
      "outputs": [
        {
          "output_type": "stream",
          "name": "stdout",
          "text": [
            "Data split: 297408 = 237926 + 29740 + 29742\n"
          ]
        }
      ],
      "source": [
        "nencdata = len(encdata)\n",
        "ntrain, nvalid = int(0.8*nencdata), int(0.1*nencdata)\n",
        "\n",
        "data = {'train': encdata[:ntrain],\n",
        "        'valid': encdata[ntrain:ntrain+nvalid],\n",
        "        'test': encdata[ntrain+nvalid:]}\n",
        "\n",
        "print('Data split: ', end='')\n",
        "print(f\"{nencdata} = {len(data['train'])} + {len(data['valid'])} + {len(data['test'])}\")"
      ]
    },
    {
      "cell_type": "markdown",
      "metadata": {
        "id": "jPAb6I4Bitr6"
      },
      "source": [
        "# Model\n",
        "\n",
        "We now build a transformer model. The model input is a block of text and the output of the model is a character that comes next.\n",
        "\n",
        "Let's start with a simple bigram model that gets a character and predicts the next character. The bigrams are from a block of a text.\n",
        "\n",
        "To generate training examples, we select a block from a text and generate all bigrams from the block. For instance, consider a text \"A dog is barking.\" For a block-size of 5, suppose we selected 'og is '. All the bigrams are ('o', 'g'), ('g', ' '), (' ', 'i'), ('i', 's'), ('s', ' ')."
      ]
    },
    {
      "cell_type": "markdown",
      "metadata": {
        "id": "GshI9G-titr7"
      },
      "source": [
        "## Model Parameters"
      ]
    },
    {
      "cell_type": "code",
      "execution_count": 38,
      "metadata": {
        "id": "PxcFXfRnitr7"
      },
      "outputs": [],
      "source": [
        "block_size = 64\n",
        "nembd = 96\n",
        "nbatch = 64\n",
        "nepoch = 5000\n",
        "eval_size = 500\n",
        "lr = 3e-4"
      ]
    },
    {
      "cell_type": "markdown",
      "metadata": {
        "id": "64emwIY5itr7"
      },
      "source": [
        "## Utility Functions"
      ]
    },
    {
      "cell_type": "code",
      "execution_count": 39,
      "metadata": {
        "id": "5tx_PYjCitr7"
      },
      "outputs": [],
      "source": [
        "def get_batch(data, nbatch, block_size):\n",
        "    '''\n",
        "    Generates a batch of examples.\n",
        "    (x[i], y[i]) is a pair of consecutive characters in the text.\n",
        "    '''\n",
        "    indices = torch.randint(len(data)-block_size, (nbatch,))\n",
        "    x = torch.stack([data[i:i+block_size] for i in indices]).to(device)\n",
        "    y = torch.stack([data[i+1:i+block_size+1] for i in indices]).to(device)\n",
        "    return x, y"
      ]
    },
    {
      "cell_type": "code",
      "execution_count": 40,
      "metadata": {
        "id": "CzBHYhwfitr7",
        "outputId": "3dd81cca-4f9d-437e-a42e-f4ff62677a6d",
        "colab": {
          "base_uri": "https://localhost:8080/"
        }
      },
      "outputs": [
        {
          "output_type": "execute_result",
          "data": {
            "text/plain": [
              "(tensor([[ 2, 14, 30, 12,  2, 12, 26,  2],\n",
              "         [30, 17, 37,  2, 35, 14, 12,  1]], device='cuda:0'),\n",
              " tensor([[14, 30, 12,  2, 12, 26,  2, 27],\n",
              "         [17, 37,  2, 35, 14, 12,  1,  0]], device='cuda:0'))"
            ]
          },
          "metadata": {},
          "execution_count": 40
        }
      ],
      "source": [
        "x, y = get_batch(data['train'], nbatch=2, block_size=8)\n",
        "x, y"
      ]
    },
    {
      "cell_type": "code",
      "execution_count": 41,
      "metadata": {
        "id": "9GzQ6fOfitr7"
      },
      "outputs": [],
      "source": [
        "def get_loss(logits, y):\n",
        "    '''\n",
        "    Computes cross-entropy loss, given logits and labels.\n",
        "    '''\n",
        "    B, T, C = logits.shape\n",
        "    # F.cross_entropy expects size C, (B, C), or (B, C, ...)\n",
        "    # logits shape is (B, T, C), so we flatten the first two dimensions.\n",
        "    return F.cross_entropy(logits.view(B*T, C), y.view(B*T))"
      ]
    },
    {
      "cell_type": "code",
      "execution_count": 42,
      "metadata": {
        "id": "osKVfMYBitr8"
      },
      "outputs": [],
      "source": [
        "def train(model, data, nepoch=100, nbatch=20, block_size=8, lr=1e-3, losses=None):\n",
        "    optimizer = torch.optim.AdamW(model.parameters(), lr=lr)\n",
        "    if losses is None:\n",
        "        losses = {\n",
        "            'train': [],\n",
        "            'valid': [],\n",
        "        }\n",
        "    for _ in range(nepoch):\n",
        "        x, y = get_batch(data['train'], nbatch=nbatch, block_size=block_size)\n",
        "\n",
        "        logits = model(x)\n",
        "        loss = get_loss(logits, y)\n",
        "        losses['train'].append(loss.item())\n",
        "\n",
        "        with torch.no_grad():\n",
        "            x, y = get_batch(data['valid'], nbatch=nbatch, block_size=block_size)\n",
        "            logits = model(x)\n",
        "            vloss = get_loss(logits, y)\n",
        "            losses['valid'].append(vloss.item())\n",
        "\n",
        "        optimizer.zero_grad(set_to_none=True)\n",
        "        loss.backward()\n",
        "        optimizer.step()\n",
        "    return losses"
      ]
    },
    {
      "cell_type": "code",
      "execution_count": 43,
      "metadata": {
        "id": "Qi-aflYpitr8"
      },
      "outputs": [],
      "source": [
        "def gen_text(model, block_size, max_size=100):\n",
        "    '''\n",
        "    Generates text using the model starting from nothing.\n",
        "    '''\n",
        "    # starting from '\\n' char we generate text.\n",
        "    x = torch.zeros((1, 1), dtype=torch.long, device=device)\n",
        "    for _ in range(max_size):\n",
        "        logits = model(x[:, -block_size:])\n",
        "        # only consider the last logit\n",
        "        logits = logits[:, -1, :]\n",
        "        score = F.softmax(logits, dim=1)\n",
        "        next_token = score.multinomial(1)\n",
        "        x = torch.cat((x, next_token), dim=1)\n",
        "    return x[0].tolist()"
      ]
    },
    {
      "cell_type": "code",
      "execution_count": 44,
      "metadata": {
        "id": "LS7yvi3Yitr8"
      },
      "outputs": [],
      "source": [
        "def nparameters(model):\n",
        "    '''\n",
        "    Returns the total number of model parameters.\n",
        "    '''\n",
        "    return sum([p.nelement() for p in model.parameters()])"
      ]
    },
    {
      "cell_type": "markdown",
      "metadata": {
        "id": "Fl6bj68mitr8"
      },
      "source": [
        "## Bigram Model"
      ]
    },
    {
      "cell_type": "code",
      "execution_count": null,
      "metadata": {
        "id": "vipf3zAQitr8"
      },
      "outputs": [],
      "source": [
        "class Bigram(nn.Module):\n",
        "    '''\n",
        "    A simple bigram-based neural network, which gets a\n",
        "    characater as input and predicts the next character.\n",
        "    '''\n",
        "    def __init__(self):\n",
        "        super().__init__()\n",
        "        self.token_emb = nn.Embedding(nchars, nembd)\n",
        "        self.linear = nn.Linear(nembd, nchars)\n",
        "\n",
        "    def forward(self, x):\n",
        "        out = self.token_emb(x)\n",
        "        out = self.linear(out)\n",
        "        return out\n",
        "\n",
        "bigram = Bigram()"
      ]
    },
    {
      "cell_type": "code",
      "execution_count": null,
      "metadata": {
        "id": "ksRhwxHFitr8",
        "outputId": "ea68ad88-5fc6-4984-e781-b4cc1e515c4b",
        "colab": {
          "base_uri": "https://localhost:8080/"
        }
      },
      "outputs": [
        {
          "output_type": "execute_result",
          "data": {
            "text/plain": [
              "3120"
            ]
          },
          "metadata": {},
          "execution_count": 17
        }
      ],
      "source": [
        "nparameters(bigram)"
      ]
    },
    {
      "cell_type": "code",
      "execution_count": null,
      "metadata": {
        "id": "DIrSEsheitr9",
        "outputId": "d4d57ae5-7902-46ff-d089-791a5d89d5b5",
        "colab": {
          "base_uri": "https://localhost:8080/"
        }
      },
      "outputs": [
        {
          "output_type": "stream",
          "name": "stdout",
          "text": [
            "loss of untrained model: 4.157041549682617\n",
            "expected loss of a random model: 3.871201010907891\n"
          ]
        }
      ],
      "source": [
        "logits = bigram(x)\n",
        "loss = get_loss(logits, y)\n",
        "print(f'loss of untrained model: {loss.item()}')\n",
        "# Random model: p(c) = 1/nchars for every character c.\n",
        "# loss -np.log([1/nchars]*nchars).mean() which is simplified to np.log(nchars).\n",
        "print(f'expected loss of a random model: {np.log(nchars)}')"
      ]
    },
    {
      "cell_type": "code",
      "execution_count": null,
      "metadata": {
        "id": "wWymlqReitr9",
        "outputId": "f2cc6085-7700-47a7-e6ee-bd8492782dbb",
        "colab": {
          "base_uri": "https://localhost:8080/"
        }
      },
      "outputs": [
        {
          "output_type": "stream",
          "name": "stdout",
          "text": [
            "\n",
            "۸رونحفه۰ذضژژگ\n",
            "ظیش۶۹مگث۲۸رظ۸ ضغوءذی۵ده۷عیلسژرذکچ۸۲۴گط۵\n",
            "شکرن۹در\rثصمحضرر۳هآ۳ک\n",
            "س۲یء۷ه۹۸پوخنيبذگ\n",
            "ت۲آآف\n",
            "ژآ\n"
          ]
        }
      ],
      "source": [
        "print(decode(gen_text(bigram, block_size, max_size=100)))"
      ]
    },
    {
      "cell_type": "markdown",
      "metadata": {
        "id": "s-YjHkfUitr9"
      },
      "source": [
        "### Optimize Bigram Model"
      ]
    },
    {
      "cell_type": "code",
      "execution_count": null,
      "metadata": {
        "id": "7hEqS84xitr9"
      },
      "outputs": [],
      "source": [
        "bigram_losses = None"
      ]
    },
    {
      "cell_type": "code",
      "execution_count": null,
      "metadata": {
        "id": "Xq8BNM6Kitr9"
      },
      "outputs": [],
      "source": [
        "bigram_losses = train(bigram, data, nepoch, nbatch, block_size, lr=lr, losses=bigram_losses)"
      ]
    },
    {
      "cell_type": "code",
      "source": [
        "print(f\"final training loss: {np.mean(bigram_losses['train'][-eval_size:])}\")\n",
        "print(f\"final validation loss: {np.mean(bigram_losses['valid'][-eval_size:])}\")"
      ],
      "metadata": {
        "id": "Ix9uHAvqk-vi",
        "outputId": "82ca82b3-285f-4291-fbbb-06d05772b8d4",
        "colab": {
          "base_uri": "https://localhost:8080/"
        }
      },
      "execution_count": null,
      "outputs": [
        {
          "output_type": "stream",
          "name": "stdout",
          "text": [
            "final training loss: 2.396427447795868\n",
            "final validation loss: 2.4417529320716858\n"
          ]
        }
      ]
    },
    {
      "cell_type": "code",
      "source": [],
      "metadata": {
        "id": "BLHu6loslGws"
      },
      "execution_count": null,
      "outputs": []
    },
    {
      "cell_type": "code",
      "execution_count": null,
      "metadata": {
        "id": "KYKNkKtLitr9",
        "outputId": "ca878da2-8f10-4f33-8280-2ffe247911c1",
        "colab": {
          "base_uri": "https://localhost:8080/",
          "height": 430
        }
      },
      "outputs": [
        {
          "output_type": "display_data",
          "data": {
            "text/plain": [
              "<Figure size 640x480 with 1 Axes>"
            ],
            "image/png": "[encoded data removed]"
          },
          "metadata": {}
        }
      ],
      "source": [
        "plt.plot(torch.tensor(bigram_losses['train']).view(-1, eval_size).mean(axis=1));\n",
        "plt.plot(torch.tensor(bigram_losses['valid']).view(-1, eval_size).mean(axis=1));\n",
        "plt.legend(['training loss', 'validation loss']);"
      ]
    },
    {
      "cell_type": "code",
      "execution_count": null,
      "metadata": {
        "id": "x_1papUQitr-",
        "outputId": "4a895526-610a-49ea-8447-201183fbd538",
        "colab": {
          "base_uri": "https://localhost:8080/"
        }
      },
      "outputs": [
        {
          "output_type": "stream",
          "name": "stdout",
          "text": [
            "\n",
            "شقايدل\r\n",
            "\r\n",
            "د\r\n",
            "ت چوی بزوی راز ن گردرو ط ت اه ست\r\n",
            "مپه گسيانهر درانه م د\r\n",
            "د\r\n",
            "چه سرهت کش بی بانه کنهمران \n"
          ]
        }
      ],
      "source": [
        "print(decode(gen_text(bigram, block_size, max_size=100)))"
      ]
    },
    {
      "cell_type": "markdown",
      "metadata": {
        "id": "x0XGvbfKitr-"
      },
      "source": [
        "## Transformer Model"
      ]
    },
    {
      "cell_type": "code",
      "execution_count": 65,
      "metadata": {
        "id": "pJqVY4Jnitr-"
      },
      "outputs": [],
      "source": [
        "dropout = 0.3"
      ]
    },
    {
      "cell_type": "markdown",
      "metadata": {
        "id": "-26DRuueitr-"
      },
      "source": [
        "### Self-Attention\n",
        "\n",
        "In the bigram model, tokens do not communicate with each other, i.e., they predicts the next character independently without any knowledge of previous characters. The self-attention mechanis addresses this issue.\n",
        "\n",
        "The simplest way for a token to communicate with previous one is to look at the average of all the previous tokens and the current token instead of the current token only. Although this is not the ideal method, it's constructive to understand how to implement this first.\n",
        "\n",
        "To understand mathematical operations in self-attension, let's start with a simple example. Suppose we have a matrix $X$ of size $m\\times n.$ We want to build a matrix $Y$, such that\n",
        "\n",
        "$$Y_{ij}=\\frac{1}{i+1}\\sum_{k=0}^{i}X_{kj},\\quad {\\rm for}\\quad i=0,1,\\ldots,m-1,\\quad j=0,1,\\ldots,n-1.$$\n",
        "\n",
        "This mean that $Y_{ij}$ is the average of $X_{0,j},\\ldots,X_{i,j}.$ This operation can be achieved by matrix multiplication as $Y=LX$ where $L$ is an $m\\times m$ triangular matrix defined as:\n",
        "\n",
        "$$\n",
        "L=\n",
        "\\begin{pmatrix}\n",
        "1 & 0 & 0 & \\ldots & 0\\\\\n",
        "\\frac{1}{2} & \\frac{1}{2} & 0 & \\ldots & 0\\\\\n",
        "\\frac{1}{3} & \\frac{1}{3} & \\frac{1}{3} & \\ldots & 0\\\\\n",
        "\\vdots & \\vdots & \\vdots && \\vdots\\\\\n",
        "\\frac{1}{m} & \\frac{1}{m} & \\frac{1}{m} & \\ldots & \\frac{1}{m}\n",
        "\\end{pmatrix}.\n",
        "$$\n",
        "\n",
        "One way to compute this matrix is $L={\\rm Softmax(P)}$, where:\n",
        "\n",
        "$$\n",
        "P=\n",
        "\\begin{pmatrix}\n",
        "0 & -\\infty & -\\infty & \\ldots & -\\infty\\\\\n",
        "0 & 0 & -\\infty & \\ldots & -\\infty\\\\\n",
        "0 & 0 & 0 & \\ldots & -\\infty\\\\\n",
        "\\vdots & \\vdots & \\vdots && \\vdots\\\\\n",
        "0 & 0 & 0 & \\ldots & 0\n",
        "\\end{pmatrix}.\n",
        "$$\n",
        "\n",
        "In our implementation, we often have a 3D tensor $X$ of size $m\\times n\\times p.$ We will illustrate how to apply this operation efficiently using matrix multiplication."
      ]
    },
    {
      "cell_type": "code",
      "execution_count": 46,
      "metadata": {
        "id": "UG2eA7yPitr-",
        "outputId": "190911b6-7814-4304-f24a-6ba66fff74dd",
        "colab": {
          "base_uri": "https://localhost:8080/"
        }
      },
      "outputs": [
        {
          "output_type": "stream",
          "name": "stdout",
          "text": [
            "Are both normalizations equal? True\n"
          ]
        },
        {
          "output_type": "execute_result",
          "data": {
            "text/plain": [
              "(False, False)"
            ]
          },
          "metadata": {},
          "execution_count": 46
        }
      ],
      "source": [
        "# Naive implementation.\n",
        "X = torch.randn((4, 8, 3))\n",
        "Y1 = torch.zeros_like(X)\n",
        "for i in range(X.shape[0]):\n",
        "    for j in range(X.shape[1]):\n",
        "        # The same as Y1[i, j, :] = torch.mean(X[i, :j+1, :], dim=0)\n",
        "        Y1[i, j] = torch.mean(X[i, :j+1], dim=0)\n",
        "\n",
        "# Efficient implementation.\n",
        "tril = torch.tril(torch.ones(8, 8))\n",
        "tril_normalized1 = tril / tril.sum(dim=1, keepdim=True)\n",
        "# Y2(8x8) @ X(4x8x3)\n",
        "# Since Y2 is 2D while X is 3D, @ operation will first\n",
        "# broadcast Y2 to create 4x8x8. The result will have 4x8x3.\n",
        "Y2 = tril_normalized1 @ X\n",
        "\n",
        "# Another efficient implementation.\n",
        "tril_normalized2 = torch.zeros_like(tril)\n",
        "tril_normalized2 = tril_normalized2.masked_fill(tril == 0, float('-inf'))\n",
        "tril_normalized2 = F.softmax(tril_normalized2, dim=1)\n",
        "print(f'Are both normalizations equal? {torch.allclose(tril_normalized1, tril_normalized2)}')\n",
        "Y3 = tril_normalized2 @ X\n",
        "\n",
        "torch.allclose(Y1, Y2), torch.allclose(Y1, Y3)"
      ]
    },
    {
      "cell_type": "markdown",
      "metadata": {
        "id": "M8ofQdg-itr-"
      },
      "source": [
        "In the bigram model, we only use the information about the current token to determine the next token. In the self-attention mechanism, however, we use the information of the previous tokens in addition to that of the current token. As we discussed we aggregate the information of previous tokens using the mean of the model weights corresponding to those tokens. This is not ideal as we treat all previous tokens the same. In the following, we discuss ways to improve it.\n",
        "\n",
        "A self-attention module contains a head $H$, a query $Q$, and a key $K$. A head has a size $h$ called head-size. Each query and key is a vector of size $h$. Each token is associated with a query and key.\n",
        "\n",
        "For any token $i$, we compute $Q_i\\cdot K_j$, for $j=0,1,\\ldots,i$, which represent the relevance of token $i$ to each previous token $j$."
      ]
    },
    {
      "cell_type": "code",
      "execution_count": 66,
      "metadata": {
        "id": "jZGc9rdEitr_"
      },
      "outputs": [],
      "source": [
        "class Head(nn.Module):\n",
        "    '''\n",
        "    Self-attention head layer.\n",
        "    '''\n",
        "    def __init__(self, head_size):\n",
        "        super().__init__()\n",
        "        self.query = nn.Linear(nembd, head_size, bias=False)\n",
        "        self.key = nn.Linear(nembd, head_size, bias=False)\n",
        "        self.value = nn.Linear(nembd, head_size, bias=False)\n",
        "        self.dropout = nn.Dropout(dropout)\n",
        "        # tril is not a model parameter so we register it as a buffer.\n",
        "        # block_size is the maximum size. The actual size can be smaller.\n",
        "        self.register_buffer('tril', torch.tril(torch.ones(block_size, block_size)))\n",
        "\n",
        "    def forward(self, x):\n",
        "        _, T, C = x.shape\n",
        "        query = self.query(x)\n",
        "        key = self.key(x)\n",
        "        weights = query @ key.transpose(-2, -1) * C**-0.5\n",
        "\n",
        "        # The time dimension can be smaller than the block-size.\n",
        "        weights = weights.masked_fill(self.tril[:T, :T] == 0, float('-inf'))\n",
        "        weights = F.softmax(weights, dim=-1)\n",
        "        weights = self.dropout(weights)\n",
        "\n",
        "        value = self.value(x)\n",
        "        out = weights @ value\n",
        "\n",
        "        return out"
      ]
    },
    {
      "cell_type": "code",
      "execution_count": 112,
      "metadata": {
        "id": "gw6cN5aHitr_"
      },
      "outputs": [],
      "source": [
        "class Transformer(nn.Module):\n",
        "    '''\n",
        "    A simple transformer model for building a character-level\n",
        "    language model using a single self-attention head.\n",
        "    '''\n",
        "    def __init__(self, head_size):\n",
        "        super().__init__()\n",
        "        self.token_emb = nn.Embedding(nchars, nembd)\n",
        "        self.position_emb = nn.Embedding(block_size, nembd)\n",
        "        self.head = Head(head_size)\n",
        "        self.linear = nn.Linear(head_size, nchars)\n",
        "\n",
        "    def forward(self, x):\n",
        "        _, T = x.shape\n",
        "        # x.shape == (nbatch, block_size, nchars)\n",
        "        # token_emb.shape == (nbatch, block_size, nembd)\n",
        "        token_emb = self.token_emb(x)\n",
        "        # position_emb.shape == (nbatch, block_size, nembd)\n",
        "        position_emb = self.position_emb(torch.arange(T, device=device))\n",
        "        # out.shape == (nbatch, block_size, nembd)\n",
        "        out = token_emb + position_emb\n",
        "        # out.shape == (nbatch, block_size, nembd)\n",
        "        out = self.head(out)\n",
        "        # out.shape == (nbatch, block_size, nchars)\n",
        "        out = self.linear(out)\n",
        "\n",
        "        return out\n",
        "\n",
        "transformer = Transformer(head_size=16).to(device)"
      ]
    },
    {
      "cell_type": "code",
      "execution_count": 113,
      "metadata": {
        "id": "G9UvKjrFitsA",
        "outputId": "074cc38e-f25a-4ebf-8f31-0c4681679566",
        "colab": {
          "base_uri": "https://localhost:8080/"
        }
      },
      "outputs": [
        {
          "output_type": "execute_result",
          "data": {
            "text/plain": [
              "5936"
            ]
          },
          "metadata": {},
          "execution_count": 113
        }
      ],
      "source": [
        "nparameters(transformer)"
      ]
    },
    {
      "cell_type": "markdown",
      "metadata": {
        "id": "kQ6VrivvitsA"
      },
      "source": [
        "### Optimize Single-Head Transformer"
      ]
    },
    {
      "cell_type": "code",
      "execution_count": null,
      "metadata": {
        "id": "-ujxPqIcitsA"
      },
      "outputs": [],
      "source": [
        "transformer_losses = None"
      ]
    },
    {
      "cell_type": "code",
      "execution_count": null,
      "metadata": {
        "id": "A7AX48EZitsA"
      },
      "outputs": [],
      "source": [
        "transformer_losses = train(transformer, data, nepoch, nbatch, block_size, lr=lr, losses=transformer_losses)"
      ]
    },
    {
      "cell_type": "code",
      "source": [
        "print(f\"final training loss: {np.mean(transformer_losses['train'][-eval_size:])}\")\n",
        "print(f\"final validation loss: {np.mean(transformer_losses['valid'][-eval_size:])}\")"
      ],
      "metadata": {
        "id": "p4sKzD_PlVV-",
        "outputId": "9fd0824e-7e46-46b1-dcf6-236884ea90e2",
        "colab": {
          "base_uri": "https://localhost:8080/"
        }
      },
      "execution_count": null,
      "outputs": [
        {
          "output_type": "stream",
          "name": "stdout",
          "text": [
            "final training loss: 2.4732484102249144\n",
            "final validation loss: 2.509839653968811\n"
          ]
        }
      ]
    },
    {
      "cell_type": "code",
      "execution_count": null,
      "metadata": {
        "id": "fuAsAvhQitsA",
        "outputId": "a31b4162-e71b-412b-a738-e8858efd08e3",
        "colab": {
          "base_uri": "https://localhost:8080/",
          "height": 430
        }
      },
      "outputs": [
        {
          "output_type": "display_data",
          "data": {
            "text/plain": [
              "<Figure size 640x480 with 1 Axes>"
            ],
            "image/png": "[encoded data removed]"
          },
          "metadata": {}
        }
      ],
      "source": [
        "plt.plot(torch.tensor(transformer_losses['train']).view(-1, eval_size).mean(axis=1));\n",
        "plt.plot(torch.tensor(transformer_losses['valid']).view(-1, eval_size).mean(axis=1));\n",
        "plt.legend(['training loss', 'validation loss']);"
      ]
    },
    {
      "cell_type": "code",
      "execution_count": null,
      "metadata": {
        "id": "77IB5NtritsA",
        "outputId": "2d521cfc-8315-40c4-97e0-d8d7643e405f",
        "colab": {
          "base_uri": "https://localhost:8080/"
        }
      },
      "outputs": [
        {
          "output_type": "stream",
          "name": "stdout",
          "text": [
            "\n",
            "گرافن د مد خ نظر نخره\r\n",
            "\r\n",
            "\r\n",
            "ز\r\n",
            "که م\r\n",
            "بيذر ن قتی اسهی حاحنسه\r\n",
            "\r\n",
            "ز ت م آرداجاابانقتمشاسراگذولن\r\n",
            "گر فاير\n"
          ]
        }
      ],
      "source": [
        "print(decode(gen_text(transformer, block_size, max_size=100)))"
      ]
    },
    {
      "cell_type": "markdown",
      "metadata": {
        "id": "qceCfe4MitsB"
      },
      "source": [
        "### Multi-Head Attention\n",
        "\n",
        "A multi-head attention layer is just a multiple self-attention heads running in parallel. For completeness, we also add a feed-forward layer as described in the Attention paper.\n",
        "\n",
        "We create a block layer which contains a self-attention layer followed by a feed-forward layer. Then we add multiple blocks sequentially in the network."
      ]
    },
    {
      "cell_type": "code",
      "execution_count": 67,
      "metadata": {
        "id": "SJDKkRTLitsB"
      },
      "outputs": [],
      "source": [
        "nhead = 6\n",
        "nblock = 6"
      ]
    },
    {
      "cell_type": "code",
      "execution_count": 68,
      "metadata": {
        "id": "1mY_w7HJitsB"
      },
      "outputs": [],
      "source": [
        "class MultiHead(nn.Module):\n",
        "    def __init__(self, nhead, head_size):\n",
        "        super().__init__()\n",
        "        self.heads = nn.ModuleList([Head(head_size) for _ in range(nhead)])\n",
        "        self.proj = nn.Linear(nembd, nembd)\n",
        "        self.dropout = nn.Dropout(dropout)\n",
        "\n",
        "    def forward(self, x):\n",
        "        out = torch.cat([head(x) for head in self.heads], dim=-1)\n",
        "        out = self.proj(out)\n",
        "        out = self.dropout(out)\n",
        "        return out"
      ]
    },
    {
      "cell_type": "code",
      "execution_count": 69,
      "metadata": {
        "id": "nKdiHg_LitsB"
      },
      "outputs": [],
      "source": [
        "class FeedForward(nn.Module):\n",
        "    def __init__(self, fain_in, fan_out):\n",
        "        super().__init__()\n",
        "        self.ff = nn.Sequential(\n",
        "            nn.Linear(fain_in, 4 * fan_out),\n",
        "            nn.ReLU(),\n",
        "            nn.Linear(4 * fan_out, fan_out),\n",
        "            nn.Dropout(dropout),\n",
        "        )\n",
        "\n",
        "    def forward(self, x):\n",
        "        out = self.ff(x)\n",
        "        return out"
      ]
    },
    {
      "cell_type": "code",
      "execution_count": 70,
      "metadata": {
        "id": "iiZp3s5BitsB"
      },
      "outputs": [],
      "source": [
        "class Block(nn.Module):\n",
        "    def __init__(self, nembd, nhead):\n",
        "        super().__init__()\n",
        "        # self-attention heads\n",
        "        self.sa = MultiHead(nhead, nembd//nhead)\n",
        "        self.sa_layer_norm = nn.LayerNorm(nembd)\n",
        "        # feed-forward network\n",
        "        self.ff = FeedForward(nembd, nembd)\n",
        "        self.ff_layer_norm = nn.LayerNorm(nembd)\n",
        "\n",
        "\n",
        "    def forward(self, x):\n",
        "        out = x\n",
        "        # deep residual network\n",
        "        out = out + self.sa(self.sa_layer_norm(out))\n",
        "        out = out + self.ff(self.ff_layer_norm(out))\n",
        "        return out"
      ]
    },
    {
      "cell_type": "code",
      "execution_count": 71,
      "metadata": {
        "id": "yKwJTKbPitsB"
      },
      "outputs": [],
      "source": [
        "class Transformer(nn.Module):\n",
        "    '''\n",
        "    A simple transformer model for building a character-level\n",
        "    language model using multiple self-attention heads.\n",
        "    '''\n",
        "    def __init__(self, nhead, nblock):\n",
        "        super().__init__()\n",
        "        self.token_emb = nn.Embedding(nchars, nembd)\n",
        "        self.position_emb = nn.Embedding(block_size, nembd)\n",
        "        self.blocks = nn.Sequential(*[Block(nembd, nhead) for _ in range(nblock)])\n",
        "        self.layer_norm = nn.LayerNorm(nembd)\n",
        "        self.linear = nn.Linear(nembd, nchars)\n",
        "\n",
        "    def forward(self, x):\n",
        "        _, T = x.shape\n",
        "        # x.shape == (nbatch, block_size, nchars)\n",
        "        # token_emb.shape == (nbatch, block_size, nembd)\n",
        "        token_emb = self.token_emb(x)\n",
        "        # position_emb.shape == (nbatch, block_size, nembd)\n",
        "        position_emb = self.position_emb(torch.arange(T, device=device))\n",
        "        # out.shape == (nbatch, block_size, nembd)\n",
        "        out = token_emb + position_emb\n",
        "        # out.shape == (nbatch, block_size, nembd)\n",
        "        out = self.blocks(out)\n",
        "        out = self.layer_norm(out)\n",
        "        # out.shape == (nbatch, block_size, nchars)\n",
        "        out = self.linear(out)\n",
        "\n",
        "        return out\n",
        "\n",
        "multihead_transformer = Transformer(nhead, nblock).to(device)"
      ]
    },
    {
      "cell_type": "code",
      "execution_count": 72,
      "metadata": {
        "id": "-srugBWGitsC",
        "outputId": "0d7ad989-405a-4009-fd5d-179535e1b2be",
        "colab": {
          "base_uri": "https://localhost:8080/"
        }
      },
      "outputs": [
        {
          "output_type": "execute_result",
          "data": {
            "text/plain": [
              "684912"
            ]
          },
          "metadata": {},
          "execution_count": 72
        }
      ],
      "source": [
        "nparameters(multihead_transformer)"
      ]
    },
    {
      "cell_type": "markdown",
      "metadata": {
        "id": "77AEoEA9itsC"
      },
      "source": [
        "### Optimize Multi-Head Transformer"
      ]
    },
    {
      "cell_type": "code",
      "execution_count": 73,
      "metadata": {
        "id": "76FLuoYkitsC"
      },
      "outputs": [],
      "source": [
        "multihead_losses = None"
      ]
    },
    {
      "cell_type": "code",
      "execution_count": 85,
      "metadata": {
        "id": "maXbDKvvitsC"
      },
      "outputs": [],
      "source": [
        "multihead_losses = train(multihead_transformer, data, nepoch, nbatch, block_size, lr=lr, losses=multihead_losses)"
      ]
    },
    {
      "cell_type": "code",
      "source": [
        "print(f\"final training loss: {np.mean(multihead_losses['train'][-eval_size:])}\")\n",
        "print(f\"final validation loss: {np.mean(multihead_losses['valid'][-eval_size:])}\")"
      ],
      "metadata": {
        "id": "KXGTBgqXm47C",
        "outputId": "f2146d66-8a07-4bad-e078-01fdc4378137",
        "colab": {
          "base_uri": "https://localhost:8080/"
        }
      },
      "execution_count": 86,
      "outputs": [
        {
          "output_type": "stream",
          "name": "stdout",
          "text": [
            "final training loss: 1.562359969139099\n",
            "final validation loss: 1.8432950417995453\n"
          ]
        }
      ]
    },
    {
      "cell_type": "code",
      "execution_count": 87,
      "metadata": {
        "id": "E5TVc1SfitsC",
        "outputId": "040122b0-f207-45cb-893b-921feb7bb417",
        "colab": {
          "base_uri": "https://localhost:8080/",
          "height": 430
        }
      },
      "outputs": [
        {
          "output_type": "display_data",
          "data": {
            "text/plain": [
              "<Figure size 640x480 with 1 Axes>"
            ],
            "image/png": "[encoded data removed]"
          },
          "metadata": {}
        }
      ],
      "source": [
        "plt.plot(torch.tensor(multihead_losses['train']).view(-1, eval_size).mean(axis=1));\n",
        "plt.plot(torch.tensor(multihead_losses['valid']).view(-1, eval_size).mean(axis=1));\n",
        "plt.legend(['training loss', 'validation loss']);"
      ]
    },
    {
      "cell_type": "code",
      "execution_count": 88,
      "metadata": {
        "id": "1i5OcTypitsC",
        "outputId": "e8aae950-7ae9-4526-d6d9-383fa4e31fa9",
        "colab": {
          "base_uri": "https://localhost:8080/"
        }
      },
      "outputs": [
        {
          "output_type": "stream",
          "name": "stdout",
          "text": [
            "\n",
            "\r\n",
            "تجران فجرا دل دانون که کلاه کنند\r\n",
            "گره تو از شعر صحب بنيان آوريد\r\n",
            "\r\n",
            "سمن باشد که بی توان چون تو بيابانم\r\n",
            "که مرا نيست هجرت خرابد بر تب کجا\r\n",
            "\r\n",
            "صبا اگر مشکل می لعل فروخت چو راه حافظ\r\n",
            "مرايم\r\n",
            "باشد ز درد وقت عافلان پيدا گفتيم\r\n",
            "\r\n",
            "مغلطه ابروی آيد که صقاحی ای زير مغان\r\n",
            "که حضرت ور نه سير نياز نباشد\r\n",
            "\r\n",
            "جام می رسد به و ترايی که نقشد کس\r\n",
            "که به من بی وردی غم خود نه من را زر تا\r\n",
            "\r\n",
            "در عالم بار غيرت بخندی به جوای کنم\r\n",
            "جان هيچ زان بر فتاد رضای تو باشد\r\n",
            "\r\n",
            "زلف تو ياد قرار عمرم کشتی ز هر عمران\r\n",
            "با چشمگيه بدنام طريق الاب\r\n",
            "\r\n",
            "اين دام زلف تسبيلين عيان چمن است\r\n",
            "من بی بشيم همچو حسن و محماليست\r\n",
            "\r\n",
            "ای دلقبا دل قدح گير و مدام قضا\r\n",
            "زير شب و زير ره در شيوه دربر نبات\r\n",
            "\r\n",
            "ديديم محصول گم از ولعظمم و زناع جان شد وطنش\r\n",
            "شيراب مبادان اقرار عمر تو به يک\r\n",
            "\r\n",
            "دلم پاش و خوش آفت و سببی باز باش کارغند\r\n",
            "هميشه ای بی پيش من و گل بارگير\r\n",
            "\r\n",
            "برو که اين با مسکدرکش دريش\r\n",
            "طلبی راه از ابر نظرباز چون گذارد\r\n",
            "\r\n",
            "با ضمين که دل زورشت نباشم به کوشی\r\n",
            "اين من او همه روی تو چون عنايت مساز\r\n",
            "\r\n",
            "آه که چنين آستان تو دست کشيد به کدام\r\n",
            "عقش گمشيد حافظ انداخت بف\n"
          ]
        }
      ],
      "source": [
        "print(decode(gen_text(multihead_transformer, block_size, max_size=1000)))"
      ]
    }
  ],
  "metadata": {
    "kernelspec": {
      "display_name": "Python 3",
      "name": "python3"
    },
    "language_info": {
      "codemirror_mode": {
        "name": "ipython",
        "version": 3
      },
      "file_extension": ".py",
      "mimetype": "text/x-python",
      "name": "python",
      "nbconvert_exporter": "python",
      "pygments_lexer": "ipython3",
      "version": "3.12.3"
    },
    "colab": {
      "provenance": [],
      "gpuType": "A100",
      "collapsed_sections": [
        "Fl6bj68mitr8",
        "kQ6VrivvitsA"
      ],
      "machine_shape": "hm",
      "include_colab_link": true
    },
    "accelerator": "GPU"
  },
  "nbformat": 4,
  "nbformat_minor": 0
}